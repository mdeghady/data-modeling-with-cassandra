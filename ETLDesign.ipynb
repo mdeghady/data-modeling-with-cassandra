{
 "cells": [
  {
   "cell_type": "markdown",
   "id": "38f04b34",
   "metadata": {},
   "source": [
    "# Design the ETL pipeline\n",
    "- The purpose of this notebook is to design and test the etl pipeline to sparkfy database"
   ]
  },
  {
   "cell_type": "code",
   "execution_count": 1,
   "id": "2734a5dc",
   "metadata": {},
   "outputs": [],
   "source": [
    "import cassandra\n",
    "import pandas as pd\n",
    "import os\n",
    "\n",
    "from CQL_quries import *\n",
    "from CreateTables import ConnectToCassandra , createKeySpace"
   ]
  },
  {
   "cell_type": "code",
   "execution_count": 2,
   "id": "18c7b154",
   "metadata": {},
   "outputs": [],
   "source": [
    "# Get the paths of every csv file in the event_data directory\n",
    "file_paths = []\n",
    "\n",
    "for root,dirs,files in os.walk('event_data' , topdown=True):\n",
    "    for file in files:\n",
    "        file_paths.append(os.path.join(root , file))"
   ]
  },
  {
   "cell_type": "markdown",
   "id": "5d42f4cf",
   "metadata": {},
   "source": [
    "## Concatenate every csv file into one csv file"
   ]
  },
  {
   "cell_type": "code",
   "execution_count": 3,
   "id": "fd814ccc",
   "metadata": {},
   "outputs": [],
   "source": [
    "# Create empty dataframs has only the name of the columns\n",
    "full_df_cols = ['artist', 'auth', 'firstName', 'gender', 'itemInSession', 'lastName',\n",
    "               'length', 'level', 'location', 'method', 'page', 'registration',\n",
    "               'sessionId', 'song', 'status', 'ts', 'userId']\n",
    "full_df = pd.DataFrame(columns = full_df_cols)\n",
    "\n",
    "# Concatenate every csv file into one csv file\n",
    "for file in file_paths:\n",
    "    df = pd.read_csv(file)\n",
    "    full_df = pd.concat([full_df , df] , axis=0)\n",
    "    \n",
    "# Drop the columns which we will not use in queries\n",
    "full_df.drop(['auth' , 'method' , 'page' , 'registration' , 'ts' , 'status'], axis = 1,inplace = True)\n",
    "full_df.dropna(inplace = True)"
   ]
  },
  {
   "cell_type": "code",
   "execution_count": 4,
   "id": "0effe0de",
   "metadata": {},
   "outputs": [
    {
     "data": {
      "text/plain": [
       "(6820, 11)"
      ]
     },
     "execution_count": 4,
     "metadata": {},
     "output_type": "execute_result"
    }
   ],
   "source": [
    "full_df.shape"
   ]
  },
  {
   "cell_type": "code",
   "execution_count": 5,
   "id": "cf09a220",
   "metadata": {},
   "outputs": [
    {
     "data": {
      "text/html": [
       "<div>\n",
       "<style scoped>\n",
       "    .dataframe tbody tr th:only-of-type {\n",
       "        vertical-align: middle;\n",
       "    }\n",
       "\n",
       "    .dataframe tbody tr th {\n",
       "        vertical-align: top;\n",
       "    }\n",
       "\n",
       "    .dataframe thead th {\n",
       "        text-align: right;\n",
       "    }\n",
       "</style>\n",
       "<table border=\"1\" class=\"dataframe\">\n",
       "  <thead>\n",
       "    <tr style=\"text-align: right;\">\n",
       "      <th></th>\n",
       "      <th>artist</th>\n",
       "      <th>firstName</th>\n",
       "      <th>gender</th>\n",
       "      <th>itemInSession</th>\n",
       "      <th>lastName</th>\n",
       "      <th>length</th>\n",
       "      <th>level</th>\n",
       "      <th>location</th>\n",
       "      <th>sessionId</th>\n",
       "      <th>song</th>\n",
       "      <th>userId</th>\n",
       "    </tr>\n",
       "  </thead>\n",
       "  <tbody>\n",
       "    <tr>\n",
       "      <th>2</th>\n",
       "      <td>Des'ree</td>\n",
       "      <td>Kaylee</td>\n",
       "      <td>F</td>\n",
       "      <td>1</td>\n",
       "      <td>Summers</td>\n",
       "      <td>246.30812</td>\n",
       "      <td>free</td>\n",
       "      <td>Phoenix-Mesa-Scottsdale, AZ</td>\n",
       "      <td>139</td>\n",
       "      <td>You Gotta Be</td>\n",
       "      <td>8</td>\n",
       "    </tr>\n",
       "    <tr>\n",
       "      <th>4</th>\n",
       "      <td>Mr Oizo</td>\n",
       "      <td>Kaylee</td>\n",
       "      <td>F</td>\n",
       "      <td>3</td>\n",
       "      <td>Summers</td>\n",
       "      <td>144.03873</td>\n",
       "      <td>free</td>\n",
       "      <td>Phoenix-Mesa-Scottsdale, AZ</td>\n",
       "      <td>139</td>\n",
       "      <td>Flat 55</td>\n",
       "      <td>8</td>\n",
       "    </tr>\n",
       "    <tr>\n",
       "      <th>5</th>\n",
       "      <td>Tamba Trio</td>\n",
       "      <td>Kaylee</td>\n",
       "      <td>F</td>\n",
       "      <td>4</td>\n",
       "      <td>Summers</td>\n",
       "      <td>177.18812</td>\n",
       "      <td>free</td>\n",
       "      <td>Phoenix-Mesa-Scottsdale, AZ</td>\n",
       "      <td>139</td>\n",
       "      <td>Quem Quiser Encontrar O Amor</td>\n",
       "      <td>8</td>\n",
       "    </tr>\n",
       "    <tr>\n",
       "      <th>6</th>\n",
       "      <td>The Mars Volta</td>\n",
       "      <td>Kaylee</td>\n",
       "      <td>F</td>\n",
       "      <td>5</td>\n",
       "      <td>Summers</td>\n",
       "      <td>380.42077</td>\n",
       "      <td>free</td>\n",
       "      <td>Phoenix-Mesa-Scottsdale, AZ</td>\n",
       "      <td>139</td>\n",
       "      <td>Eriatarka</td>\n",
       "      <td>8</td>\n",
       "    </tr>\n",
       "    <tr>\n",
       "      <th>7</th>\n",
       "      <td>Infected Mushroom</td>\n",
       "      <td>Kaylee</td>\n",
       "      <td>F</td>\n",
       "      <td>6</td>\n",
       "      <td>Summers</td>\n",
       "      <td>440.26730</td>\n",
       "      <td>free</td>\n",
       "      <td>Phoenix-Mesa-Scottsdale, AZ</td>\n",
       "      <td>139</td>\n",
       "      <td>Becoming Insane</td>\n",
       "      <td>8</td>\n",
       "    </tr>\n",
       "  </tbody>\n",
       "</table>\n",
       "</div>"
      ],
      "text/plain": [
       "              artist firstName gender itemInSession lastName     length level  \\\n",
       "2            Des'ree    Kaylee      F             1  Summers  246.30812  free   \n",
       "4            Mr Oizo    Kaylee      F             3  Summers  144.03873  free   \n",
       "5         Tamba Trio    Kaylee      F             4  Summers  177.18812  free   \n",
       "6     The Mars Volta    Kaylee      F             5  Summers  380.42077  free   \n",
       "7  Infected Mushroom    Kaylee      F             6  Summers  440.26730  free   \n",
       "\n",
       "                      location sessionId                          song userId  \n",
       "2  Phoenix-Mesa-Scottsdale, AZ       139                  You Gotta Be      8  \n",
       "4  Phoenix-Mesa-Scottsdale, AZ       139                       Flat 55      8  \n",
       "5  Phoenix-Mesa-Scottsdale, AZ       139  Quem Quiser Encontrar O Amor      8  \n",
       "6  Phoenix-Mesa-Scottsdale, AZ       139                     Eriatarka      8  \n",
       "7  Phoenix-Mesa-Scottsdale, AZ       139               Becoming Insane      8  "
      ]
     },
     "execution_count": 5,
     "metadata": {},
     "output_type": "execute_result"
    }
   ],
   "source": [
    "full_df.head()"
   ]
  },
  {
   "cell_type": "code",
   "execution_count": 6,
   "id": "cfe168bb",
   "metadata": {},
   "outputs": [
    {
     "data": {
      "text/html": [
       "<div>\n",
       "<style scoped>\n",
       "    .dataframe tbody tr th:only-of-type {\n",
       "        vertical-align: middle;\n",
       "    }\n",
       "\n",
       "    .dataframe tbody tr th {\n",
       "        vertical-align: top;\n",
       "    }\n",
       "\n",
       "    .dataframe thead th {\n",
       "        text-align: right;\n",
       "    }\n",
       "</style>\n",
       "<table border=\"1\" class=\"dataframe\">\n",
       "  <thead>\n",
       "    <tr style=\"text-align: right;\">\n",
       "      <th></th>\n",
       "      <th>artist</th>\n",
       "      <th>firstName</th>\n",
       "      <th>gender</th>\n",
       "      <th>itemInSession</th>\n",
       "      <th>lastName</th>\n",
       "      <th>length</th>\n",
       "      <th>level</th>\n",
       "      <th>location</th>\n",
       "      <th>sessionId</th>\n",
       "      <th>song</th>\n",
       "      <th>userId</th>\n",
       "    </tr>\n",
       "  </thead>\n",
       "  <tbody>\n",
       "    <tr>\n",
       "      <th>2</th>\n",
       "      <td>Des''ree</td>\n",
       "      <td>Kaylee</td>\n",
       "      <td>F</td>\n",
       "      <td>1</td>\n",
       "      <td>Summers</td>\n",
       "      <td>246.30812</td>\n",
       "      <td>free</td>\n",
       "      <td>Phoenix-Mesa-Scottsdale, AZ</td>\n",
       "      <td>139</td>\n",
       "      <td>You Gotta Be</td>\n",
       "      <td>8</td>\n",
       "    </tr>\n",
       "    <tr>\n",
       "      <th>4</th>\n",
       "      <td>Mr Oizo</td>\n",
       "      <td>Kaylee</td>\n",
       "      <td>F</td>\n",
       "      <td>3</td>\n",
       "      <td>Summers</td>\n",
       "      <td>144.03873</td>\n",
       "      <td>free</td>\n",
       "      <td>Phoenix-Mesa-Scottsdale, AZ</td>\n",
       "      <td>139</td>\n",
       "      <td>Flat 55</td>\n",
       "      <td>8</td>\n",
       "    </tr>\n",
       "    <tr>\n",
       "      <th>5</th>\n",
       "      <td>Tamba Trio</td>\n",
       "      <td>Kaylee</td>\n",
       "      <td>F</td>\n",
       "      <td>4</td>\n",
       "      <td>Summers</td>\n",
       "      <td>177.18812</td>\n",
       "      <td>free</td>\n",
       "      <td>Phoenix-Mesa-Scottsdale, AZ</td>\n",
       "      <td>139</td>\n",
       "      <td>Quem Quiser Encontrar O Amor</td>\n",
       "      <td>8</td>\n",
       "    </tr>\n",
       "    <tr>\n",
       "      <th>6</th>\n",
       "      <td>The Mars Volta</td>\n",
       "      <td>Kaylee</td>\n",
       "      <td>F</td>\n",
       "      <td>5</td>\n",
       "      <td>Summers</td>\n",
       "      <td>380.42077</td>\n",
       "      <td>free</td>\n",
       "      <td>Phoenix-Mesa-Scottsdale, AZ</td>\n",
       "      <td>139</td>\n",
       "      <td>Eriatarka</td>\n",
       "      <td>8</td>\n",
       "    </tr>\n",
       "    <tr>\n",
       "      <th>7</th>\n",
       "      <td>Infected Mushroom</td>\n",
       "      <td>Kaylee</td>\n",
       "      <td>F</td>\n",
       "      <td>6</td>\n",
       "      <td>Summers</td>\n",
       "      <td>440.26730</td>\n",
       "      <td>free</td>\n",
       "      <td>Phoenix-Mesa-Scottsdale, AZ</td>\n",
       "      <td>139</td>\n",
       "      <td>Becoming Insane</td>\n",
       "      <td>8</td>\n",
       "    </tr>\n",
       "  </tbody>\n",
       "</table>\n",
       "</div>"
      ],
      "text/plain": [
       "              artist firstName gender itemInSession lastName     length level  \\\n",
       "2           Des''ree    Kaylee      F             1  Summers  246.30812  free   \n",
       "4            Mr Oizo    Kaylee      F             3  Summers  144.03873  free   \n",
       "5         Tamba Trio    Kaylee      F             4  Summers  177.18812  free   \n",
       "6     The Mars Volta    Kaylee      F             5  Summers  380.42077  free   \n",
       "7  Infected Mushroom    Kaylee      F             6  Summers  440.26730  free   \n",
       "\n",
       "                      location sessionId                          song userId  \n",
       "2  Phoenix-Mesa-Scottsdale, AZ       139                  You Gotta Be      8  \n",
       "4  Phoenix-Mesa-Scottsdale, AZ       139                       Flat 55      8  \n",
       "5  Phoenix-Mesa-Scottsdale, AZ       139  Quem Quiser Encontrar O Amor      8  \n",
       "6  Phoenix-Mesa-Scottsdale, AZ       139                     Eriatarka      8  \n",
       "7  Phoenix-Mesa-Scottsdale, AZ       139               Becoming Insane      8  "
      ]
     },
     "execution_count": 6,
     "metadata": {},
     "output_type": "execute_result"
    }
   ],
   "source": [
    "# Replace evey single apostrophe by a two apostrophes to make it easy to insert string type data into database\n",
    "full_df['artist'] = full_df['artist'].str.replace(\"'\" , \"''\")\n",
    "full_df['song'] = full_df['song'].str.replace(\"'\" , \"''\")\n",
    "full_df['firstName'] = full_df['firstName'].str.replace(\"'\" , \"''\")\n",
    "full_df['firstName'] = full_df['firstName'].str.replace(\"'\" , \"''\")\n",
    "full_df.head()"
   ]
  },
  {
   "cell_type": "markdown",
   "id": "b420a51c",
   "metadata": {},
   "source": [
    "# Connect to cassandra"
   ]
  },
  {
   "cell_type": "code",
   "execution_count": 7,
   "id": "656b70a9",
   "metadata": {},
   "outputs": [],
   "source": [
    "session , cluster = ConnectToCassandra()\n",
    "createKeySpace(session)"
   ]
  },
  {
   "cell_type": "markdown",
   "id": "aa0d6a68",
   "metadata": {},
   "source": [
    "# Create Sessions  Table\n",
    "- Create Sessions Table be able to run the following query\n",
    "- Give me the artist, song title and song's length in the music app history that was heard during sessionId = 338, and itemInSession = 4"
   ]
  },
  {
   "cell_type": "code",
   "execution_count": 8,
   "id": "5dbf4884",
   "metadata": {},
   "outputs": [],
   "source": [
    "session_col_names = \"sessionId int,  itemInSession int ,artist text , song_title text ,song_length  float\"\n",
    "create_table(session,\n",
    "             table_name = 'sessions',\n",
    "             column_names= session_col_names,\n",
    "             primary_keys= \"(sessionId , itemInSession)\")"
   ]
  },
  {
   "cell_type": "code",
   "execution_count": 9,
   "id": "d00b0c3f",
   "metadata": {},
   "outputs": [],
   "source": [
    "for _ , row in full_df.iterrows():\n",
    "    insert_into_table(session , table_name = 'sessions' , \n",
    "                 values = f\"{row['sessionId']},{row['itemInSession']},'{row['artist']} ', '{row['song']}' , {row['length']}\")"
   ]
  },
  {
   "cell_type": "code",
   "execution_count": 10,
   "id": "3d079722",
   "metadata": {},
   "outputs": [
    {
     "name": "stdout",
     "output_type": "stream",
     "text": [
      "Row(artist='Faithless ', song_title='Music Matters (Mark Knight Dub)', song_length=495.30731201171875)\n"
     ]
    }
   ],
   "source": [
    "query = \"SELECT artist , song_title ,  song_length FROM sessions WHERE  sessionId = 338 AND  itemInSession = 4\"\n",
    "\n",
    "\n",
    "\n",
    "try:\n",
    "    rows = session.execute(query)\n",
    "except Exception as e:\n",
    "    print(e)\n",
    "\n",
    "    \n",
    "for row in rows:\n",
    "    print(row)"
   ]
  },
  {
   "cell_type": "markdown",
   "id": "fb5183fe",
   "metadata": {},
   "source": [
    "# Create Usesrs Table\n",
    "- Create Users Table to be able to run the following query\n",
    "- Give me only the following: name of artist, song (sorted by itemInSession) and user (first and last name) for userid = 10, sessionid = 182"
   ]
  },
  {
   "cell_type": "code",
   "execution_count": 11,
   "id": "9fbe232b",
   "metadata": {},
   "outputs": [],
   "source": [
    "users_col_names = \"userId int,  sessionId int, itemInSession int,artist text , song_title text , firstName text ,lastName text \"\n",
    "create_table(session,\n",
    "             table_name = 'users',\n",
    "             column_names= users_col_names,\n",
    "             primary_keys= \"(userId , sessionId) , itemInSession\")"
   ]
  },
  {
   "cell_type": "code",
   "execution_count": 12,
   "id": "b44cb7a8",
   "metadata": {},
   "outputs": [],
   "source": [
    "for _ , row in full_df.iterrows():\n",
    "    insert_into_table(session , table_name = 'users' ,\n",
    "                     values=f\"{int(row['userId'])},{int(row['sessionId'])},{int(row['itemInSession'])},'{row['artist']}','{row['song']}','{row['firstName']}','{row['lastName']}'\")"
   ]
  },
  {
   "cell_type": "code",
   "execution_count": 13,
   "id": "afcc8e08",
   "metadata": {},
   "outputs": [
    {
     "name": "stdout",
     "output_type": "stream",
     "text": [
      "0 Down To The Bone Keep On Keepin' On Sylvie Cruz\n",
      "1 Three Drives Greece 2000 Sylvie Cruz\n",
      "2 Sebastien Tellier Kilometer Sylvie Cruz\n",
      "3 Lonnie Gordon Catch You Baby (Steve Pitron & Max Sanna Radio Edit) Sylvie Cruz\n"
     ]
    }
   ],
   "source": [
    "query = \"SELECT itemInSession , artist , song_title , firstName , lastName FROM users  WHERE  userId = 10 AND sessionId = 182\"\n",
    "\n",
    "try:\n",
    "    rows = session.execute(query)\n",
    "except Exception as e:\n",
    "    print(e)\n",
    "    \n",
    "for row in rows:\n",
    "    print(row.iteminsession , row.artist , row.song_title , row.firstname , row.lastname)\n",
    "    "
   ]
  },
  {
   "cell_type": "markdown",
   "id": "1b6d6ddc",
   "metadata": {},
   "source": [
    "# Create songs Table\n",
    "- Create Artists Table to be able to run the following query\n",
    "- Give me every user name (first and last) in my music app history who listened to the song 'All Hands Against His Own'"
   ]
  },
  {
   "cell_type": "code",
   "execution_count": 14,
   "id": "ddff8801",
   "metadata": {},
   "outputs": [],
   "source": [
    "songs_col_names = \"song_title text , userId int, firstName text ,lastName text \"\n",
    "create_table(session,\n",
    "             table_name = 'songs',\n",
    "             column_names= songs_col_names,\n",
    "             primary_keys= \"(song_title) , userId\")"
   ]
  },
  {
   "cell_type": "code",
   "execution_count": 15,
   "id": "2bdad652",
   "metadata": {},
   "outputs": [],
   "source": [
    "for _ , row in full_df.iterrows():\n",
    "    insert_into_table(session , table_name = 'songs' ,\n",
    "                      values=f\"'{row['song']}'  , {int(row['userId'])}, '{row['firstName']}' , '{row['lastName']}' \")"
   ]
  },
  {
   "cell_type": "code",
   "execution_count": 16,
   "id": "cba0f4dc",
   "metadata": {},
   "outputs": [
    {
     "name": "stdout",
     "output_type": "stream",
     "text": [
      "Jacqueline Lynch\n",
      "Tegan Levine\n",
      "Sara Johnson\n"
     ]
    }
   ],
   "source": [
    "query = \"SELECT firstName , lastName FROM songs  WHERE song_title = 'All Hands Against His Own'\"\n",
    "\n",
    "try:\n",
    "    rows = session.execute(query)\n",
    "except Exception as e:\n",
    "    print(e)\n",
    "\n",
    "    \n",
    "for row in rows:\n",
    "    print( row.firstname , row.lastname)\n",
    "    "
   ]
  },
  {
   "cell_type": "code",
   "execution_count": 17,
   "id": "ef3abd3c",
   "metadata": {},
   "outputs": [
    {
     "data": {
      "text/plain": [
       "<cassandra.cluster.ResultSet at 0x1e1422dae88>"
      ]
     },
     "execution_count": 17,
     "metadata": {},
     "output_type": "execute_result"
    }
   ],
   "source": [
    "query = \"DROP TABLE sessions \"\n",
    "session.execute(query)\n",
    "\n",
    "query = \"DROP TABLE users \"\n",
    "session.execute(query)\n",
    "\n",
    "query = \"DROP TABLE songs \"\n",
    "session.execute(query)"
   ]
  },
  {
   "cell_type": "code",
   "execution_count": 18,
   "id": "da493357",
   "metadata": {},
   "outputs": [],
   "source": [
    "#Close the connecion\n",
    "session.shutdown()\n",
    "cluster.shutdown()"
   ]
  }
 ],
 "metadata": {
  "kernelspec": {
   "display_name": "Python 3 (ipykernel)",
   "language": "python",
   "name": "python3"
  },
  "language_info": {
   "codemirror_mode": {
    "name": "ipython",
    "version": 3
   },
   "file_extension": ".py",
   "mimetype": "text/x-python",
   "name": "python",
   "nbconvert_exporter": "python",
   "pygments_lexer": "ipython3",
   "version": "3.7.13"
  }
 },
 "nbformat": 4,
 "nbformat_minor": 5
}
